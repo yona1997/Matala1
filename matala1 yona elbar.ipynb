{
 "cells": [
  {
   "cell_type": "markdown",
   "metadata": {},
   "source": [
    "Q1"
   ]
  },
  {
   "cell_type": "code",
   "execution_count": 99,
   "metadata": {},
   "outputs": [],
   "source": [
    "def my_func(x1,x2,x3):\n",
    "    if x1 + x2 + x3 == 0: \n",
    "        print(\"Not a number – denominator equals zero\")\n",
    "    elif type(x1) == int or type(x2) == int or type(x3) == int :\n",
    "        print(\"“Error: parameters should be float”\")\n",
    "    elif not isinstance(x1, float) or not isinstance(x2, float) or not isinstance(x3, float):\n",
    "        print(\"None\")\n",
    "    else:\n",
    "        calcul = ((x1 + x2 + x3)*(x2+x3)*x3)/(x1+x2+x3)\n",
    "        print(calcul)   \n",
    "        "
   ]
  },
  {
   "cell_type": "code",
   "execution_count": 100,
   "metadata": {},
   "outputs": [
    {
     "name": "stdout",
     "output_type": "stream",
     "text": [
      "10.0\n"
     ]
    }
   ],
   "source": [
    "my_func(2.0,3.0,2.0)"
   ]
  },
  {
   "cell_type": "markdown",
   "metadata": {},
   "source": [
    "Q2"
   ]
  },
  {
   "cell_type": "code",
   "execution_count": 1,
   "metadata": {},
   "outputs": [],
   "source": [
    "def revword(word:str) -> str:\n",
    "            word = word[::-1].lower()\n",
    "            return word"
   ]
  },
  {
   "cell_type": "code",
   "execution_count": 344,
   "metadata": {},
   "outputs": [],
   "source": [
    "def countword()->int:\n",
    "    fh = open(\"text.txt\",\"r\")\n",
    "    count = 1\n",
    "    lst = list()\n",
    "    for line in fh:\n",
    "        lineWords = line.rstrip().split()\n",
    "        lst.append(lineWords)\n",
    "        word = lst[0][0]\n",
    "        for i in lineWords:\n",
    "            x = revword(i)\n",
    "            if x == word:\n",
    "                count = count + 1\n",
    "    print(count)"
   ]
  },
  {
   "cell_type": "code",
   "execution_count": 346,
   "metadata": {},
   "outputs": [
    {
     "name": "stdout",
     "output_type": "stream",
     "text": [
      "6\n"
     ]
    }
   ],
   "source": [
    "countword()"
   ]
  },
  {
   "cell_type": "code",
   "execution_count": 2,
   "metadata": {},
   "outputs": [
    {
     "data": {
      "text/plain": [
       "'yona'"
      ]
     },
     "execution_count": 2,
     "metadata": {},
     "output_type": "execute_result"
    }
   ],
   "source": [
    "revword(\"anoy\")"
   ]
  },
  {
   "cell_type": "code",
   "execution_count": null,
   "metadata": {},
   "outputs": [],
   "source": []
  },
  {
   "cell_type": "code",
   "execution_count": null,
   "metadata": {},
   "outputs": [],
   "source": []
  }
 ],
 "metadata": {
  "kernelspec": {
   "display_name": "Python 3",
   "language": "python",
   "name": "python3"
  },
  "language_info": {
   "codemirror_mode": {
    "name": "ipython",
    "version": 3
   },
   "file_extension": ".py",
   "mimetype": "text/x-python",
   "name": "python",
   "nbconvert_exporter": "python",
   "pygments_lexer": "ipython3",
   "version": "3.8.5"
  }
 },
 "nbformat": 4,
 "nbformat_minor": 4
}
